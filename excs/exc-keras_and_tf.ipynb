{
  "cells": [
    {
      "cell_type": "markdown",
      "metadata": {
        "id": "LFGlrFFoIm8C"
      },
      "source": [
        "# (실습) 케라스와 텐서플로우"
      ]
    },
    {
      "cell_type": "markdown",
      "metadata": {
        "id": "EKy_uQhzIm8F"
      },
      "source": [
        "## 텐서 관련"
      ]
    },
    {
      "cell_type": "markdown",
      "metadata": {
        "id": "VO6XAvA8Im8G"
      },
      "source": [
        "**문제 1**"
      ]
    },
    {
      "cell_type": "markdown",
      "metadata": {
        "id": "U4dXercIIm8G"
      },
      "source": [
        "[텐서 소개(Introduction to Tensors)](https://www.tensorflow.org/guide/tensor)를 정리하라."
      ]
    },
    {
      "cell_type": "markdown",
      "metadata": {
        "id": "XHzgUK-PIm8G"
      },
      "source": [
        "## 케라스 관련"
      ]
    },
    {
      "cell_type": "markdown",
      "metadata": {
        "id": "Ax8TRFNfIm8H"
      },
      "source": [
        "**문제 1**"
      ]
    },
    {
      "cell_type": "markdown",
      "metadata": {
        "id": "_3ukNQWiIm8H"
      },
      "source": [
        "[TensorFlow Playground](https://playground.tensorflow.org)에서 분류 모델 네 개를 살펴 보면서 각 문제를 해결하는 최선의 모델을 찾은 다음에 최선의 모델을 찾는 과정을 설명하라.\n",
        "즉, 아래 요소들에 적절한 값이 선택된 이유를 (추정해서) 설명하라.\n",
        "\n",
        "- 학습률(learning rate)\n",
        "- 활성화 함수(activation function)\n",
        "- 규제(regularization)와 규제율(regularization rate)\n",
        "- 배치 크기(batch size)\n",
        "- 은닉층(hidden layer)과 유닛(unit 또는 neuron) 수"
      ]
    },
    {
      "cell_type": "markdown",
      "metadata": {
        "id": "ZoASh4kxIm8I"
      },
      "source": [
        "**문제 2**"
      ]
    },
    {
      "cell_type": "markdown",
      "metadata": {
        "id": "hEqfpxCuIm8I"
      },
      "source": [
        "다음 분류 과제와 관련해서 문제 1에서 찾은 최선의 모델을 직접 `Dense` 층과 `Sequence` 모델을 이용하여 케라스로 구현하라. \n",
        "아래 이미지에서 보이는 모델은 하나의 예시일 뿐이다.\n",
        "\n",
        "<div align=\"center\"><img src=\"https://raw.githubusercontent.com/codingalzi/dlp2/master/jupyter-book/imgs/ch03-tf-playground.jpg\" style=\"width:700px;\"></div>\n"
      ]
    },
    {
      "cell_type": "markdown",
      "metadata": {
        "id": "XqLZBzeDIm8I"
      },
      "source": [
        "**문제 3**"
      ]
    },
    {
      "cell_type": "markdown",
      "metadata": {
        "id": "BGtGCWH6Im8J"
      },
      "source": [
        "다음 분류 과제와 관련해서 문제 1에서 찾은 최선의 모델을 직접 `Dense` 층과 `Sequence` 모델을 이용하여 케라스로 구현하라. \n",
        "아래 이미지에서 보이는 모델은 하나의 예시일 뿐이다.\n",
        "\n",
        "<div align=\"center\"><img src=\"https://raw.githubusercontent.com/codingalzi/dlp2/master/jupyter-book/imgs/ch03-tf-playground-2.jpg\" style=\"width:700px;\"></div>\n"
      ]
    },
    {
      "cell_type": "markdown",
      "metadata": {
        "id": "t_9n9MatIm8J"
      },
      "source": [
        "**문제 4**"
      ]
    },
    {
      "cell_type": "markdown",
      "metadata": {
        "id": "z83xzKMWIm8J"
      },
      "source": [
        "다음 분류 과제와 관련해서 문제 1에서 찾은 최선의 모델을 직접 `Dense` 층과 `Sequence` 모델을 이용하여 케라스로 구현하라. \n",
        "아래 이미지에서 보이는 모델은 하나의 예시일 뿐이다.\n",
        "\n",
        "<div align=\"center\"><img src=\"https://raw.githubusercontent.com/codingalzi/dlp2/master/jupyter-book/imgs/ch03-tf-playground-3.jpg\" style=\"width:700px;\"></div>\n"
      ]
    },
    {
      "cell_type": "markdown",
      "metadata": {
        "id": "Pn5GtyDCIm8K"
      },
      "source": [
        "**문제 5**"
      ]
    },
    {
      "cell_type": "markdown",
      "metadata": {
        "id": "q3Rqv4IUIm8K"
      },
      "source": [
        "다음 분류 과제와 관련해서 문제 1에서 찾은 최선의 모델을 직접 `Dense` 층과 `Sequence` 모델을 이용하여 케라스로 구현하라. \n",
        "아래 이미지에서 보이는 모델은 하나의 예시일 뿐이다.\n",
        "\n",
        "<div align=\"center\"><img src=\"https://raw.githubusercontent.com/codingalzi/dlp2/master/jupyter-book/imgs/ch03-tf-playground-4.jpg\" style=\"width:700px;\"></div>\n"
      ]
    },
    {
      "cell_type": "markdown",
      "metadata": {
        "id": "Av-p4hPdIm8K"
      },
      "source": [
        "## 텐서플로우 관련"
      ]
    },
    {
      "cell_type": "markdown",
      "metadata": {
        "id": "6BpHWAmRIm8K"
      },
      "source": [
        "아래 코드는 순수 텐서플로우를 이용하여 이진분류 문제를 해결하는 코드이다."
      ]
    },
    {
      "cell_type": "code",
      "execution_count": null,
      "metadata": {
        "id": "dRyApQdxIm8K",
        "outputId": "ad4e4988-63a9-41b8-96ad-18e3c79727ab"
      },
      "outputs": [
        {
          "name": "stdout",
          "output_type": "stream",
          "text": [
            "Loss at step 0: 0.9927\n",
            "Loss at step 1: 0.1929\n",
            "Loss at step 2: 0.1130\n",
            "Loss at step 3: 0.0973\n",
            "Loss at step 4: 0.0898\n",
            "Loss at step 5: 0.0839\n",
            "Loss at step 6: 0.0787\n",
            "Loss at step 7: 0.0739\n",
            "Loss at step 8: 0.0695\n",
            "Loss at step 9: 0.0655\n",
            "Loss at step 10: 0.0619\n",
            "Loss at step 11: 0.0586\n",
            "Loss at step 12: 0.0556\n",
            "Loss at step 13: 0.0529\n",
            "Loss at step 14: 0.0504\n",
            "Loss at step 15: 0.0481\n",
            "Loss at step 16: 0.0461\n",
            "Loss at step 17: 0.0442\n",
            "Loss at step 18: 0.0425\n",
            "Loss at step 19: 0.0409\n",
            "Loss at step 20: 0.0395\n",
            "Loss at step 21: 0.0382\n",
            "Loss at step 22: 0.0370\n",
            "Loss at step 23: 0.0359\n",
            "Loss at step 24: 0.0350\n",
            "Loss at step 25: 0.0341\n",
            "Loss at step 26: 0.0333\n",
            "Loss at step 27: 0.0325\n",
            "Loss at step 28: 0.0318\n",
            "Loss at step 29: 0.0312\n",
            "Loss at step 30: 0.0307\n",
            "Loss at step 31: 0.0302\n",
            "Loss at step 32: 0.0297\n",
            "Loss at step 33: 0.0293\n",
            "Loss at step 34: 0.0289\n",
            "Loss at step 35: 0.0285\n",
            "Loss at step 36: 0.0282\n",
            "Loss at step 37: 0.0279\n",
            "Loss at step 38: 0.0277\n",
            "Loss at step 39: 0.0274\n"
          ]
        }
      ],
      "source": [
        "import numpy as np\n",
        "import tensorflow as tf\n",
        "\n",
        "# 데이터셋 크기\n",
        "num_samples_per_class = 1000\n",
        "\n",
        "# 음성 데이터셋\n",
        "negative_samples = np.random.multivariate_normal(\n",
        "    mean=[0, 3], cov=[[1, 0.5],[0.5, 1]], size=num_samples_per_class)\n",
        "\n",
        "# 양성 데이터셋\n",
        "positive_samples = np.random.multivariate_normal(\n",
        "    mean=[3, 0], cov=[[1, 0.5],[0.5, 1]], size=num_samples_per_class)\n",
        "\n",
        "# 입력 및 타깃 데이터셋\n",
        "inputs = np.vstack((negative_samples, positive_samples)).astype(np.float32)\n",
        "\n",
        "targets = np.vstack((np.zeros((num_samples_per_class, 1), dtype=\"float32\"),\n",
        "                     np.ones((num_samples_per_class, 1), dtype=\"float32\")))\n",
        "\n",
        "# 가중치와 편향        \n",
        "input_dim = 2     # 입력 샘플의 특성이 2개\n",
        "output_dim = 1    # 하나의 값으로 출력\n",
        "\n",
        "# 가중치: 무작위 초기화\n",
        "W = tf.Variable(initial_value=tf.random.uniform(shape=(input_dim, output_dim)))\n",
        "\n",
        "# 편향: 0으로 초기화\n",
        "b = tf.Variable(initial_value=tf.zeros(shape=(output_dim,)))\n",
        "\n",
        "# 모델 지정(하나의 층 사용)\n",
        "def model(inputs):\n",
        "    return tf.matmul(inputs, W) + b\n",
        "\n",
        "# 손실함수\n",
        "def square_loss(targets, predictions):\n",
        "    per_sample_losses = tf.square(targets - predictions)\n",
        "    return tf.reduce_mean(per_sample_losses)\n",
        "\n",
        "# 학습률\n",
        "learning_rate = 0.1\n",
        "\n",
        "# 훈련 스텝\n",
        "def training_step(inputs, targets):\n",
        "    with tf.GradientTape() as tape:\n",
        "        predictions = model(inputs)\n",
        "        loss = square_loss(targets, predictions)\n",
        "    grad_loss_wrt_W, grad_loss_wrt_b = tape.gradient(loss, [W, b])\n",
        "    W.assign_sub(grad_loss_wrt_W * learning_rate)\n",
        "    b.assign_sub(grad_loss_wrt_b * learning_rate)\n",
        "    return loss\n",
        "\n",
        "# 모델 학습\n",
        "for step in range(40):\n",
        "    loss = training_step(inputs, targets)\n",
        "    print(f\"Loss at step {step}: {loss:.4f}\")"
      ]
    },
    {
      "cell_type": "markdown",
      "metadata": {
        "id": "gXAW_HNZIm8M"
      },
      "source": [
        "위 코드의 실행결과는 다음과 같이 이진분류 모델이다."
      ]
    },
    {
      "cell_type": "markdown",
      "metadata": {
        "id": "YTwSV8h_Im8M"
      },
      "source": [
        "<div align=\"center\"><img src=\"https://drek4537l1klr.cloudfront.net/chollet2/HighResolutionFigures/figure_3-8.png\" style=\"width:500px;\"></div>\n",
        "\n",
        "<p><div style=\"text-align: center\">&lt;그림 출처: <a href=\"https://www.manning.com/books/deep-learning-with-python-second-edition\">Deep Learning with Python(2판)</a>&gt;</div></p>"
      ]
    },
    {
      "cell_type": "markdown",
      "metadata": {
        "id": "Orh9ivn9Im8M"
      },
      "source": [
        "**문제 1**"
      ]
    },
    {
      "cell_type": "markdown",
      "metadata": {
        "id": "lOOMY1IlIm8M"
      },
      "source": [
        "위 코드는 학습과정에서 전체 데이터셋을 하나의 배치로 사용한다.\n",
        "미니배치 학습을 지원하도록 코드를 수정한 후에 훈련을 진행하여 최선의 모델을 구현하라.\n",
        "배치 크기는 32로 한다."
      ]
    },
    {
      "cell_type": "markdown",
      "metadata": {
        "id": "ITm73ODyIm8M"
      },
      "source": [
        "**문제 2**"
      ]
    },
    {
      "cell_type": "markdown",
      "metadata": {
        "id": "Zs8vEzCvIm8N"
      },
      "source": [
        "위 코드는 입력값에서 바로 출력값을 계산한다. \n",
        "순전파에서 네 개의 유닛으로 구성된 층(layer)을 통과하도록 모델을 수정한 모델을 훈련시켜서\n",
        "최선의 모델을 구현하라.\n",
        "단, 활성화 함수는 사용하지 않는다.\n",
        "\n",
        "힌트: 그레이디언트 테이프를 활용하여 역전파를 적절하게 구현해야 한다."
      ]
    }
  ],
  "metadata": {
    "kernelspec": {
      "display_name": "Python 3.9.13 ('homl3')",
      "language": "python",
      "name": "python3"
    },
    "language_info": {
      "name": "python",
      "version": "3.9.13"
    },
    "orig_nbformat": 4,
    "vscode": {
      "interpreter": {
        "hash": "33b995ba57ec8806df76ad412cbfca6e91844af7e84c0aab5f00a2382a2b11c8"
      }
    },
    "colab": {
      "provenance": []
    }
  },
  "nbformat": 4,
  "nbformat_minor": 0
}